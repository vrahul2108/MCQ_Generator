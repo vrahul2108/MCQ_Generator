{
 "cells": [
  {
   "cell_type": "markdown",
   "metadata": {},
   "source": [
    "# GuideLines\n",
    "\n",
    "\n",
    "\n",
    "# Generating Multiple-Choice Questions from Text\n",
    "\n",
    "Goal:\n",
    "\n",
    "The goal of this notebook is to demonstrate the process of generating multiple-choice questions (MCQs) from a given text input. This includes preprocessing the text, utilizing language models for question generation, and presenting the generated questions along with their options.\n",
    "\n",
    "Output:\n",
    "\n",
    "The notebook generates MCQs based on the provided input text, offering multiple-choice options for each question. These questions are designed to assess understanding and comprehension of the text.\n",
    "\n",
    "Models Used:\n",
    "\n",
    "T5 Model (Text-To-Text Transfer Transformer):\n",
    "\n",
    "Used for conditional text generation.\n",
    "\n",
    "Specifically fine-tuned for generating questions from context.\n",
    "\n",
    "Sense2Vec Model:  (Advance Version of Word2Vec)\n",
    "\n",
    "Utilized for retrieving sense-aware word vectors, aiding in the generation of meaningful options for MCQs.\n",
    "\n",
    "Preprocessing Steps:\n",
    "\n",
    "Text Tokenization:\n",
    "\n",
    "The input text is tokenized into sentences and words to facilitate further processing.\n",
    "\n",
    "Stopword Removal:\n",
    "\n",
    "Common stopwords are removed to filter out irrelevant words from consideration.\n",
    "\n",
    "Part-of-Speech Tagging:\n",
    "\n",
    "Part-of-speech tagging is performed to identify nouns and proper nouns, which are essential for generating meaningful questions and options.\n",
    "\n",
    "Candidate Selection:\n",
    "\n",
    "MultipartiteRank algorithm is employed to select candidate keywords and phrases from the text.\n",
    "\n",
    "Example Usage:\n",
    "\n",
    "The notebook includes a PythonPredictor class with methods for predicting MCQs from a given input text. Users can instantiate this class, provide their input text, and obtain the generated MCQs with options as output.\n",
    "\n",
    "\n",
    "Note:\n",
    "\n",
    "The provided code and methodology are intended for educational and demonstration purposes only. Users are encouraged to further customize and adapt the codebase to their specific requirements and use cases."
   ]
  },
  {
   "cell_type": "markdown",
   "metadata": {},
   "source": [
    "# Important Installation"
   ]
  },
  {
   "cell_type": "code",
   "execution_count": 2,
   "metadata": {
    "execution": {
     "iopub.execute_input": "2024-04-13T08:09:23.139892Z",
     "iopub.status.busy": "2024-04-13T08:09:23.138888Z",
     "iopub.status.idle": "2024-04-13T08:09:23.144538Z",
     "shell.execute_reply": "2024-04-13T08:09:23.143413Z",
     "shell.execute_reply.started": "2024-04-13T08:09:23.139846Z"
    },
    "papermill": {
     "duration": 28.580541,
     "end_time": "2020-08-09T09:36:22.211637",
     "exception": false,
     "start_time": "2020-08-09T09:35:53.631096",
     "status": "completed"
    },
    "tags": []
   },
   "outputs": [],
   "source": [
    "# !pip install sense2vec\n",
    "# !pip install strsim\n",
    "# !pip install git+https://github.com/boudinfl/pke.git\n",
    "# !python -m nltk.downloader stopwords\n",
    "\n",
    "# !python -m nltk.downloader universal_tagset\n",
    "# !python -m spacy download en # download the english model"
   ]
  },
  {
   "cell_type": "markdown",
   "metadata": {},
   "source": [
    "# Load Modules and Packages"
   ]
  },
  {
   "cell_type": "code",
   "execution_count": 3,
   "metadata": {
    "_cell_guid": "79c7e3d0-c299-4dcb-8224-4455121ee9b0",
    "_uuid": "d629ff2d2480ee46fbb7e2d37f6b5fab8052498a",
    "execution": {
     "iopub.execute_input": "2024-04-13T08:10:08.424000Z",
     "iopub.status.busy": "2024-04-13T08:10:08.423589Z",
     "iopub.status.idle": "2024-04-13T08:10:22.864731Z",
     "shell.execute_reply": "2024-04-13T08:10:22.863766Z",
     "shell.execute_reply.started": "2024-04-13T08:10:08.423968Z"
    },
    "papermill": {
     "duration": 10.220751,
     "end_time": "2020-08-09T09:36:40.725251",
     "exception": false,
     "start_time": "2020-08-09T09:36:30.504500",
     "status": "completed"
    },
    "tags": []
   },
   "outputs": [
    {
     "name": "stdout",
     "output_type": "stream",
     "text": [
      "[nltk_data] Downloading package brown to /usr/share/nltk_data...\n",
      "[nltk_data]   Package brown is already up-to-date!\n",
      "[nltk_data] Downloading package stopwords to /usr/share/nltk_data...\n",
      "[nltk_data]   Package stopwords is already up-to-date!\n",
      "[nltk_data] Downloading collection 'popular'\n",
      "[nltk_data]    | \n",
      "[nltk_data]    | Downloading package cmudict to\n",
      "[nltk_data]    |     /usr/share/nltk_data...\n",
      "[nltk_data]    |   Package cmudict is already up-to-date!\n",
      "[nltk_data]    | Downloading package gazetteers to\n",
      "[nltk_data]    |     /usr/share/nltk_data...\n",
      "[nltk_data]    |   Package gazetteers is already up-to-date!\n",
      "[nltk_data]    | Downloading package genesis to\n",
      "[nltk_data]    |     /usr/share/nltk_data...\n",
      "[nltk_data]    |   Package genesis is already up-to-date!\n",
      "[nltk_data]    | Downloading package gutenberg to\n",
      "[nltk_data]    |     /usr/share/nltk_data...\n",
      "[nltk_data]    |   Package gutenberg is already up-to-date!\n",
      "[nltk_data]    | Downloading package inaugural to\n",
      "[nltk_data]    |     /usr/share/nltk_data...\n",
      "[nltk_data]    |   Package inaugural is already up-to-date!\n",
      "[nltk_data]    | Downloading package movie_reviews to\n",
      "[nltk_data]    |     /usr/share/nltk_data...\n",
      "[nltk_data]    |   Package movie_reviews is already up-to-date!\n",
      "[nltk_data]    | Downloading package names to /usr/share/nltk_data...\n",
      "[nltk_data]    |   Package names is already up-to-date!\n",
      "[nltk_data]    | Downloading package shakespeare to\n",
      "[nltk_data]    |     /usr/share/nltk_data...\n",
      "[nltk_data]    |   Package shakespeare is already up-to-date!\n",
      "[nltk_data]    | Downloading package stopwords to\n",
      "[nltk_data]    |     /usr/share/nltk_data...\n",
      "[nltk_data]    |   Package stopwords is already up-to-date!\n",
      "[nltk_data]    | Downloading package treebank to\n",
      "[nltk_data]    |     /usr/share/nltk_data...\n",
      "[nltk_data]    |   Package treebank is already up-to-date!\n",
      "[nltk_data]    | Downloading package twitter_samples to\n",
      "[nltk_data]    |     /usr/share/nltk_data...\n",
      "[nltk_data]    |   Package twitter_samples is already up-to-date!\n",
      "[nltk_data]    | Downloading package omw to /usr/share/nltk_data...\n",
      "[nltk_data]    |   Package omw is already up-to-date!\n",
      "[nltk_data]    | Downloading package omw-1.4 to\n",
      "[nltk_data]    |     /usr/share/nltk_data...\n",
      "[nltk_data]    | Downloading package wordnet to\n",
      "[nltk_data]    |     /usr/share/nltk_data...\n",
      "[nltk_data]    |   Package wordnet is already up-to-date!\n",
      "[nltk_data]    | Downloading package wordnet2021 to\n",
      "[nltk_data]    |     /usr/share/nltk_data...\n",
      "[nltk_data]    | Downloading package wordnet31 to\n",
      "[nltk_data]    |     /usr/share/nltk_data...\n",
      "[nltk_data]    | Downloading package wordnet_ic to\n",
      "[nltk_data]    |     /usr/share/nltk_data...\n",
      "[nltk_data]    |   Package wordnet_ic is already up-to-date!\n",
      "[nltk_data]    | Downloading package words to /usr/share/nltk_data...\n",
      "[nltk_data]    |   Package words is already up-to-date!\n",
      "[nltk_data]    | Downloading package maxent_ne_chunker to\n",
      "[nltk_data]    |     /usr/share/nltk_data...\n",
      "[nltk_data]    |   Package maxent_ne_chunker is already up-to-date!\n",
      "[nltk_data]    | Downloading package punkt to /usr/share/nltk_data...\n",
      "[nltk_data]    |   Package punkt is already up-to-date!\n",
      "[nltk_data]    | Downloading package snowball_data to\n",
      "[nltk_data]    |     /usr/share/nltk_data...\n",
      "[nltk_data]    |   Package snowball_data is already up-to-date!\n",
      "[nltk_data]    | Downloading package averaged_perceptron_tagger to\n",
      "[nltk_data]    |     /usr/share/nltk_data...\n",
      "[nltk_data]    |   Package averaged_perceptron_tagger is already up-\n",
      "[nltk_data]    |       to-date!\n",
      "[nltk_data]    | \n",
      "[nltk_data]  Done downloading collection popular\n"
     ]
    }
   ],
   "source": [
    "import time\n",
    "import torch\n",
    "import numpy\n",
    "from transformers import T5ForConditionalGeneration,T5Tokenizer\n",
    "import random\n",
    "import spacy\n",
    "import boto3\n",
    "import zipfile\n",
    "import os\n",
    "import json\n",
    "from sense2vec import Sense2Vec\n",
    "import requests\n",
    "from collections import OrderedDict\n",
    "import string\n",
    "\n",
    "import pke\n",
    "import nltk\n",
    "from nltk import FreqDist\n",
    "nltk.download('brown')\n",
    "nltk.download('stopwords')\n",
    "nltk.download('popular')\n",
    "from nltk.corpus import stopwords\n",
    "from nltk.corpus import brown\n",
    "from similarity.normalized_levenshtein import NormalizedLevenshtein\n",
    "\n",
    "from nltk.tokenize import sent_tokenize\n",
    "from flashtext import KeywordProcessor\n"
   ]
  },
  {
   "cell_type": "code",
   "execution_count": 4,
   "metadata": {
    "execution": {
     "iopub.execute_input": "2024-04-13T08:10:36.459344Z",
     "iopub.status.busy": "2024-04-13T08:10:36.458169Z",
     "iopub.status.idle": "2024-04-13T08:10:37.407765Z",
     "shell.execute_reply": "2024-04-13T08:10:37.406439Z",
     "shell.execute_reply.started": "2024-04-13T08:10:36.459309Z"
    },
    "papermill": {
     "duration": 0.879511,
     "end_time": "2020-08-09T09:36:41.663491",
     "exception": false,
     "start_time": "2020-08-09T09:36:40.783980",
     "status": "completed"
    },
    "tags": []
   },
   "outputs": [],
   "source": [
    "!ls"
   ]
  },
  {
   "cell_type": "code",
   "execution_count": 5,
   "metadata": {
    "execution": {
     "iopub.execute_input": "2024-04-13T08:10:37.410123Z",
     "iopub.status.busy": "2024-04-13T08:10:37.409786Z",
     "iopub.status.idle": "2024-04-13T08:10:37.415945Z",
     "shell.execute_reply": "2024-04-13T08:10:37.415099Z",
     "shell.execute_reply.started": "2024-04-13T08:10:37.410083Z"
    },
    "papermill": {
     "duration": 0.04753,
     "end_time": "2020-08-09T09:36:41.749749",
     "exception": false,
     "start_time": "2020-08-09T09:36:41.702219",
     "status": "completed"
    },
    "tags": []
   },
   "outputs": [],
   "source": [
    "def MCQs_available(word,s2v):\n",
    "    word = word.replace(\" \", \"_\")\n",
    "    sense = s2v.get_best_sense(word)\n",
    "    if sense is not None:\n",
    "        return True\n",
    "    else:\n",
    "        return False"
   ]
  },
  {
   "cell_type": "code",
   "execution_count": 6,
   "metadata": {
    "execution": {
     "iopub.execute_input": "2024-04-13T08:11:05.049740Z",
     "iopub.status.busy": "2024-04-13T08:11:05.049363Z",
     "iopub.status.idle": "2024-04-13T08:11:05.058097Z",
     "shell.execute_reply": "2024-04-13T08:11:05.057233Z",
     "shell.execute_reply.started": "2024-04-13T08:11:05.049710Z"
    },
    "papermill": {
     "duration": 0.050699,
     "end_time": "2020-08-09T09:36:41.838070",
     "exception": false,
     "start_time": "2020-08-09T09:36:41.787371",
     "status": "completed"
    },
    "tags": []
   },
   "outputs": [],
   "source": [
    "def edits(word):\n",
    "    \"All edits that are one edit away from `word`.\"\n",
    "    letters    = 'abcdefghijklmnopqrstuvwxyz '+string.punctuation\n",
    "    splits     = [(word[:i], word[i:])    for i in range(len(word) + 1)]\n",
    "    deletes    = [L + R[1:]               for L, R in splits if R]\n",
    "    transposes = [L + R[1] + R[0] + R[2:] for L, R in splits if len(R)>1]\n",
    "    replaces   = [L + c + R[1:]           for L, R in splits if R for c in letters]\n",
    "    inserts    = [L + c + R               for L, R in splits for c in letters]\n",
    "    return set(deletes + transposes + replaces + inserts)"
   ]
  },
  {
   "cell_type": "code",
   "execution_count": 7,
   "metadata": {
    "execution": {
     "iopub.execute_input": "2024-04-13T08:11:12.691219Z",
     "iopub.status.busy": "2024-04-13T08:11:12.690834Z",
     "iopub.status.idle": "2024-04-13T08:11:12.699965Z",
     "shell.execute_reply": "2024-04-13T08:11:12.698757Z",
     "shell.execute_reply.started": "2024-04-13T08:11:12.691178Z"
    },
    "papermill": {
     "duration": 0.054012,
     "end_time": "2020-08-09T09:36:41.930097",
     "exception": false,
     "start_time": "2020-08-09T09:36:41.876085",
     "status": "completed"
    },
    "tags": []
   },
   "outputs": [],
   "source": [
    "def sense2vec_get_words(word,s2v):\n",
    "    output = []\n",
    "\n",
    "    word_preprocessed =  word.translate(word.maketrans(\"\",\"\", string.punctuation))\n",
    "    word_preprocessed = word_preprocessed.lower()\n",
    "\n",
    "    word_edits = edits(word_preprocessed)\n",
    "\n",
    "    word = word.replace(\" \", \"_\")\n",
    "\n",
    "    sense = s2v.get_best_sense(word)\n",
    "    most_similar = s2v.most_similar(sense, n=15)\n",
    "\n",
    "    compare_list = [word_preprocessed]\n",
    "    for each_word in most_similar:\n",
    "        append_word = each_word[0].split(\"|\")[0].replace(\"_\", \" \")\n",
    "        append_word = append_word.strip()\n",
    "        append_word_processed = append_word.lower()\n",
    "        append_word_processed = append_word_processed.translate(append_word_processed.maketrans(\"\",\"\", string.punctuation))\n",
    "        if append_word_processed not in compare_list and word_preprocessed not in append_word_processed and append_word_processed not in word_edits:\n",
    "            output.append(append_word.title())\n",
    "            compare_list.append(append_word_processed)\n",
    "\n",
    "\n",
    "    out = list(OrderedDict.fromkeys(output))\n",
    "\n",
    "    return out"
   ]
  },
  {
   "cell_type": "code",
   "execution_count": 8,
   "metadata": {
    "execution": {
     "iopub.execute_input": "2024-04-13T08:11:20.286366Z",
     "iopub.status.busy": "2024-04-13T08:11:20.285975Z",
     "iopub.status.idle": "2024-04-13T08:11:20.294662Z",
     "shell.execute_reply": "2024-04-13T08:11:20.293737Z",
     "shell.execute_reply.started": "2024-04-13T08:11:20.286335Z"
    },
    "papermill": {
     "duration": 0.047355,
     "end_time": "2020-08-09T09:36:42.016846",
     "exception": false,
     "start_time": "2020-08-09T09:36:41.969491",
     "status": "completed"
    },
    "tags": []
   },
   "outputs": [],
   "source": [
    "# Return an array of options\n",
    "def get_options(answer,s2v):\n",
    "    distractors =[]\n",
    "\n",
    "    try:\n",
    "        distractors = sense2vec_get_words(answer,s2v)\n",
    "        if len(distractors) > 0:\n",
    "            print(\" Sense2vec_distractors successful for word : \", answer)\n",
    "            return distractors,\"sense2vec\"\n",
    "    except:\n",
    "        print (\" Sense2vec_distractors failed for word : \",answer)\n",
    "\n",
    "\n",
    "    return distractors,\"None\""
   ]
  },
  {
   "cell_type": "code",
   "execution_count": 9,
   "metadata": {
    "execution": {
     "iopub.execute_input": "2024-04-13T08:11:27.207335Z",
     "iopub.status.busy": "2024-04-13T08:11:27.206947Z",
     "iopub.status.idle": "2024-04-13T08:11:27.212836Z",
     "shell.execute_reply": "2024-04-13T08:11:27.211961Z",
     "shell.execute_reply.started": "2024-04-13T08:11:27.207305Z"
    },
    "papermill": {
     "duration": 0.047653,
     "end_time": "2020-08-09T09:36:42.103797",
     "exception": false,
     "start_time": "2020-08-09T09:36:42.056144",
     "status": "completed"
    },
    "tags": []
   },
   "outputs": [],
   "source": [
    "def tokenize_sentences(text):\n",
    "    sentences = [sent_tokenize(text)]\n",
    "    sentences = [y for x in sentences for y in x]\n",
    "    # Remove any short sentences less than 20 letters.\n",
    "    sentences = [sentence.strip() for sentence in sentences if len(sentence) > 20]\n",
    "    return sentences"
   ]
  },
  {
   "cell_type": "code",
   "execution_count": 10,
   "metadata": {
    "execution": {
     "iopub.execute_input": "2024-04-13T08:11:28.001582Z",
     "iopub.status.busy": "2024-04-13T08:11:28.001228Z",
     "iopub.status.idle": "2024-04-13T08:11:28.009563Z",
     "shell.execute_reply": "2024-04-13T08:11:28.008438Z",
     "shell.execute_reply.started": "2024-04-13T08:11:28.001556Z"
    },
    "papermill": {
     "duration": 0.052939,
     "end_time": "2020-08-09T09:36:42.196380",
     "exception": false,
     "start_time": "2020-08-09T09:36:42.143441",
     "status": "completed"
    },
    "tags": []
   },
   "outputs": [],
   "source": [
    "def get_sentences_for_keyword(keywords, sentences):\n",
    "    keyword_processor = KeywordProcessor()\n",
    "    keyword_sentences = {}\n",
    "    for word in keywords:\n",
    "        word = word.strip()\n",
    "        keyword_sentences[word] = []\n",
    "        keyword_processor.add_keyword(word)\n",
    "    for sentence in sentences:\n",
    "        keywords_found = keyword_processor.extract_keywords(sentence)\n",
    "        for key in keywords_found:\n",
    "            keyword_sentences[key].append(sentence)\n",
    "\n",
    "    for key in keyword_sentences.keys():\n",
    "        values = keyword_sentences[key]\n",
    "        values = sorted(values, key=len, reverse=True)\n",
    "        keyword_sentences[key] = values\n",
    "\n",
    "    delete_keys = []\n",
    "    for k in keyword_sentences.keys():\n",
    "        if len(keyword_sentences[k]) == 0:\n",
    "            delete_keys.append(k)\n",
    "    for del_key in delete_keys:\n",
    "        del keyword_sentences[del_key]\n",
    "\n",
    "    return keyword_sentences"
   ]
  },
  {
   "cell_type": "code",
   "execution_count": 11,
   "metadata": {
    "execution": {
     "iopub.execute_input": "2024-04-13T08:11:35.054602Z",
     "iopub.status.busy": "2024-04-13T08:11:35.054179Z",
     "iopub.status.idle": "2024-04-13T08:11:35.060558Z",
     "shell.execute_reply": "2024-04-13T08:11:35.059670Z",
     "shell.execute_reply.started": "2024-04-13T08:11:35.054571Z"
    },
    "papermill": {
     "duration": 0.049776,
     "end_time": "2020-08-09T09:36:42.285233",
     "exception": false,
     "start_time": "2020-08-09T09:36:42.235457",
     "status": "completed"
    },
    "tags": []
   },
   "outputs": [],
   "source": [
    "def is_far(words_list,currentword,thresh,normalized_levenshtein):\n",
    "    threshold = thresh\n",
    "    score_list =[]\n",
    "    for word in words_list:\n",
    "        score_list.append(normalized_levenshtein.distance(word.lower(),currentword.lower()))\n",
    "    if min(score_list)>=threshold:\n",
    "        return True\n",
    "    else:\n",
    "        return False"
   ]
  },
  {
   "cell_type": "code",
   "execution_count": 12,
   "metadata": {
    "execution": {
     "iopub.execute_input": "2024-04-13T08:11:42.164841Z",
     "iopub.status.busy": "2024-04-13T08:11:42.164181Z",
     "iopub.status.idle": "2024-04-13T08:11:42.170445Z",
     "shell.execute_reply": "2024-04-13T08:11:42.169520Z",
     "shell.execute_reply.started": "2024-04-13T08:11:42.164810Z"
    },
    "papermill": {
     "duration": 0.04821,
     "end_time": "2020-08-09T09:36:42.373702",
     "exception": false,
     "start_time": "2020-08-09T09:36:42.325492",
     "status": "completed"
    },
    "tags": []
   },
   "outputs": [],
   "source": [
    "def filter_phrases(phrase_keys,max,normalized_levenshtein ):\n",
    "    filtered_phrases =[]\n",
    "    if len(phrase_keys)>0:\n",
    "        filtered_phrases.append(phrase_keys[0])\n",
    "        for ph in phrase_keys[1:]:\n",
    "            if is_far(filtered_phrases,ph,0.7,normalized_levenshtein ):\n",
    "                filtered_phrases.append(ph)\n",
    "            if len(filtered_phrases)>=max:\n",
    "                break\n",
    "    return filtered_phrases"
   ]
  },
  {
   "cell_type": "code",
   "execution_count": 19,
   "metadata": {
    "execution": {
     "iopub.execute_input": "2024-04-13T08:17:55.613313Z",
     "iopub.status.busy": "2024-04-13T08:17:55.612319Z",
     "iopub.status.idle": "2024-04-13T08:17:55.620557Z",
     "shell.execute_reply": "2024-04-13T08:17:55.619583Z",
     "shell.execute_reply.started": "2024-04-13T08:17:55.613278Z"
    },
    "papermill": {
     "duration": 0.049631,
     "end_time": "2020-08-09T09:36:42.462458",
     "exception": false,
     "start_time": "2020-08-09T09:36:42.412827",
     "status": "completed"
    },
    "tags": []
   },
   "outputs": [],
   "source": [
    "# def get_nouns_multipartite(text):\n",
    "#     out = []\n",
    "\n",
    "#     extractor = pke.unsupervised.MultipartiteRank()\n",
    "#     extractor.load_document(input=text, language='en')\n",
    "#     pos = {'PROPN', 'NOUN'}\n",
    "#     stoplist = list(string.punctuation)\n",
    "#     stoplist += stopwords.words('english')\n",
    "#     extractor.candidate_selection(pos=pos, stoplist=stoplist)\n",
    "#     # 4. build the Multipartite graph and rank candidates using random walk,\n",
    "#     #    alpha controls the weight adjustment mechanism, see TopicRank for\n",
    "#     #    threshold/method parameters.\n",
    "#     try:\n",
    "#         extractor.candidate_weighting(alpha=1.1,\n",
    "#                                       threshold=0.75,\n",
    "#                                       method='average')\n",
    "#     except:\n",
    "#         return out\n",
    "\n",
    "#     keyphrases = extractor.get_n_best(n=10)\n",
    "\n",
    "#     for key in keyphrases:\n",
    "#         out.append(key[0])\n",
    "\n",
    "#     return out\n",
    "\n",
    "def get_nouns_multipartite(text):\n",
    "    out = []\n",
    "\n",
    "    extractor = pke.unsupervised.MultipartiteRank()\n",
    "    extractor.load_document(input=text, language='en')\n",
    "    pos = {'PROPN', 'NOUN'}\n",
    "    # Remove the 'stoplist' argument\n",
    "    extractor.candidate_selection(pos=pos)\n",
    "    \n",
    "    try:\n",
    "        extractor.candidate_weighting(alpha=1.1, threshold=0.75, method='average')\n",
    "    except:\n",
    "        return out\n",
    "\n",
    "    keyphrases = extractor.get_n_best(n=10)\n",
    "\n",
    "    for key in keyphrases:\n",
    "        out.append(key[0])\n",
    "\n",
    "    return out\n"
   ]
  },
  {
   "cell_type": "code",
   "execution_count": 20,
   "metadata": {
    "execution": {
     "iopub.execute_input": "2024-04-13T08:17:56.152591Z",
     "iopub.status.busy": "2024-04-13T08:17:56.151841Z",
     "iopub.status.idle": "2024-04-13T08:17:56.159836Z",
     "shell.execute_reply": "2024-04-13T08:17:56.158639Z",
     "shell.execute_reply.started": "2024-04-13T08:17:56.152548Z"
    },
    "papermill": {
     "duration": 0.048069,
     "end_time": "2020-08-09T09:36:42.548920",
     "exception": false,
     "start_time": "2020-08-09T09:36:42.500851",
     "status": "completed"
    },
    "tags": []
   },
   "outputs": [],
   "source": [
    "def get_phrases(doc):\n",
    "    phrases={}\n",
    "    for np in doc.noun_chunks:\n",
    "        phrase =np.text\n",
    "        len_phrase = len(phrase.split())\n",
    "        if len_phrase > 1:\n",
    "            if phrase not in phrases:\n",
    "                phrases[phrase]=1\n",
    "            else:\n",
    "                phrases[phrase]=phrases[phrase]+1\n",
    "\n",
    "    phrase_keys=list(phrases.keys())\n",
    "    phrase_keys = sorted(phrase_keys, key= lambda x: len(x),reverse=True)\n",
    "    phrase_keys=phrase_keys[:50]\n",
    "    return phrase_keys"
   ]
  },
  {
   "cell_type": "code",
   "execution_count": 21,
   "metadata": {
    "execution": {
     "iopub.execute_input": "2024-04-13T08:17:56.695373Z",
     "iopub.status.busy": "2024-04-13T08:17:56.694889Z",
     "iopub.status.idle": "2024-04-13T08:17:56.703526Z",
     "shell.execute_reply": "2024-04-13T08:17:56.702549Z",
     "shell.execute_reply.started": "2024-04-13T08:17:56.695336Z"
    },
    "papermill": {
     "duration": 0.053024,
     "end_time": "2020-08-09T09:36:42.641146",
     "exception": false,
     "start_time": "2020-08-09T09:36:42.588122",
     "status": "completed"
    },
    "tags": []
   },
   "outputs": [],
   "source": [
    "\n",
    "def get_keywords(nlp,text,max_keywords,s2v,fdist,normalized_levenshtein,no_of_sentences):\n",
    "    doc = nlp(text)\n",
    "    max_keywords = int(max_keywords)\n",
    "\n",
    "    keywords = get_nouns_multipartite(text)\n",
    "    keywords = sorted(keywords, key=lambda x: fdist[x])\n",
    "    keywords = filter_phrases(keywords, max_keywords,normalized_levenshtein )\n",
    "\n",
    "    phrase_keys = get_phrases(doc)\n",
    "    filtered_phrases = filter_phrases(phrase_keys, max_keywords,normalized_levenshtein )\n",
    "\n",
    "    total_phrases = keywords + filtered_phrases\n",
    "\n",
    "    total_phrases_filtered = filter_phrases(total_phrases, min(max_keywords, 2*no_of_sentences),normalized_levenshtein )\n",
    "\n",
    "\n",
    "    answers = []\n",
    "    for answer in total_phrases_filtered:\n",
    "        if answer not in answers and MCQs_available(answer,s2v):\n",
    "            answers.append(answer)\n",
    "\n",
    "    answers = answers[:max_keywords]\n",
    "    return answers"
   ]
  },
  {
   "cell_type": "code",
   "execution_count": 22,
   "metadata": {
    "execution": {
     "iopub.execute_input": "2024-04-13T08:17:57.195514Z",
     "iopub.status.busy": "2024-04-13T08:17:57.195105Z",
     "iopub.status.idle": "2024-04-13T08:17:57.209507Z",
     "shell.execute_reply": "2024-04-13T08:17:57.208355Z",
     "shell.execute_reply.started": "2024-04-13T08:17:57.195482Z"
    },
    "papermill": {
     "duration": 0.06027,
     "end_time": "2020-08-09T09:36:42.740537",
     "exception": false,
     "start_time": "2020-08-09T09:36:42.680267",
     "status": "completed"
    },
    "tags": []
   },
   "outputs": [],
   "source": [
    "\n",
    "def generate_questions(keyword_sent_mapping,device,tokenizer,model,sense2vec,normalized_levenshtein):\n",
    "    model.to(device)\n",
    "    batch_text = []\n",
    "    answers = keyword_sent_mapping.keys()\n",
    "    for answer in answers:\n",
    "        txt = keyword_sent_mapping[answer]\n",
    "        context = \"context: \" + txt\n",
    "        text = context + \" \" + \"answer: \" + answer + \" </s>\"\n",
    "        batch_text.append(text)\n",
    "\n",
    "    # print (\"batch_text\")\n",
    "    # print (batch_text)\n",
    "    encoding = tokenizer.batch_encode_plus(batch_text, pad_to_max_length=True, return_tensors=\"pt\")\n",
    "\n",
    "\n",
    "    print (\"Running model for generation\")\n",
    "    input_ids, attention_masks = encoding[\"input_ids\"].to(device), encoding[\"attention_mask\"].to(device)\n",
    "\n",
    "    with torch.no_grad():\n",
    "        outs = model.generate(input_ids=input_ids,\n",
    "                              attention_mask=attention_masks,\n",
    "                              max_length=150)\n",
    "\n",
    "    output_array ={}\n",
    "    output_array[\"questions\"] =[]\n",
    "\n",
    "    for index, val in enumerate(answers):\n",
    "        individual_question ={}\n",
    "        out = outs[index, :]\n",
    "        dec = tokenizer.decode(out, skip_special_tokens=True, clean_up_tokenization_spaces=True)\n",
    "\n",
    "        Question = dec.replace(\"question:\", \"\")\n",
    "        Question = Question.strip()\n",
    "        individual_question[\"question_statement\"] = Question\n",
    "        individual_question[\"question_type\"] = \"MCQ\"\n",
    "        individual_question[\"answer\"] = val\n",
    "        individual_question[\"id\"] = index+1\n",
    "        individual_question[\"options\"], individual_question[\"options_algorithm\"] = get_options(val, sense2vec)\n",
    "\n",
    "        individual_question[\"options\"] =  filter_phrases(individual_question[\"options\"], 10,normalized_levenshtein)\n",
    "        index = 3\n",
    "        individual_question[\"extra_options\"]= individual_question[\"options\"][index:]\n",
    "        individual_question[\"options\"] = individual_question[\"options\"][:index]\n",
    "        individual_question[\"context\"] = keyword_sent_mapping[val]\n",
    "        # individual_question[\"options\"]=[]\n",
    "        # individual_question[\"options_algorithm\"] = \"\"\n",
    "        if len(individual_question[\"options\"])>0:\n",
    "            output_array[\"questions\"].append(individual_question)\n",
    "\n",
    "        print(\"Context: \", keyword_sent_mapping[val])\n",
    "        print(\"Generated Question: \")\n",
    "        print(Question)\n",
    "        print(\"Answer: \", val)\n",
    "\n",
    "    return output_array"
   ]
  },
  {
   "cell_type": "code",
   "execution_count": 23,
   "metadata": {
    "execution": {
     "iopub.execute_input": "2024-04-13T08:17:57.663295Z",
     "iopub.status.busy": "2024-04-13T08:17:57.662890Z",
     "iopub.status.idle": "2024-04-13T08:17:57.678854Z",
     "shell.execute_reply": "2024-04-13T08:17:57.677727Z",
     "shell.execute_reply.started": "2024-04-13T08:17:57.663265Z"
    },
    "papermill": {
     "duration": 0.062822,
     "end_time": "2020-08-09T09:36:42.842579",
     "exception": false,
     "start_time": "2020-08-09T09:36:42.779757",
     "status": "completed"
    },
    "tags": []
   },
   "outputs": [],
   "source": [
    "class PythonPredictor:\n",
    "    def __init__(self):\n",
    "        model_file_1 = \"/kaggle/input/s2v-old/s2v_old\"\n",
    "        \n",
    "        print (\"s2v model already exists.\")\n",
    "        self.tokenizer = T5Tokenizer.from_pretrained('t5-base')\n",
    "        model = T5ForConditionalGeneration.from_pretrained('ramsrigouthamg/t5_squad_v1')\n",
    "        device = torch.device(\"cuda\" if torch.cuda.is_available() else \"cpu\")\n",
    "        model.to(device)\n",
    "        # model.eval()\n",
    "        self.device = device\n",
    "        self.model = model\n",
    "        self.nlp = spacy.load('en_core_web_sm')\n",
    "\n",
    "        self.s2v = Sense2Vec().from_disk('/kaggle/input/s2v-old/s2v_old')\n",
    "\n",
    "        self.fdist = FreqDist(brown.words())\n",
    "        self.normalized_levenshtein = NormalizedLevenshtein()\n",
    "        self.set_seed(42)\n",
    "    def set_seed(self,seed):\n",
    "        numpy.random.seed(seed)\n",
    "        torch.manual_seed(seed)\n",
    "        if torch.cuda.is_available():\n",
    "            torch.cuda.manual_seed_all(seed)\n",
    "    def predict(self, payload):\n",
    "        start = time.time()\n",
    "        inp = {\n",
    "            \"input_text\": payload.get(\"input_text\"),\n",
    "            \"max_questions\": payload.get(\"max_questions\", 4)\n",
    "        }\n",
    "\n",
    "        text = inp['input_text']\n",
    "        sentences = tokenize_sentences(text)\n",
    "        joiner = \" \"\n",
    "        modified_text = joiner.join(sentences)\n",
    "\n",
    "\n",
    "        keywords = get_keywords(self.nlp,modified_text,inp['max_questions'],self.s2v,self.fdist,self.normalized_levenshtein,len(sentences) )\n",
    "\n",
    "\n",
    "        keyword_sentence_mapping = get_sentences_for_keyword(keywords, sentences)\n",
    "\n",
    "        for k in keyword_sentence_mapping.keys():\n",
    "            text_snippet = \" \".join(keyword_sentence_mapping[k][:3])\n",
    "            keyword_sentence_mapping[k] = text_snippet\n",
    "\n",
    "   \n",
    "        final_output = {}\n",
    "\n",
    "        if len(keyword_sentence_mapping.keys()) == 0:\n",
    "            return json.dumps(final_output)\n",
    "        else:\n",
    "            try:\n",
    "                generated_questions = generate_questions(keyword_sentence_mapping,self.device,self.tokenizer,self.model,self.s2v,self.normalized_levenshtein)\n",
    "\n",
    "            except:\n",
    "                return final_output\n",
    "            end = time.time()\n",
    "\n",
    "            final_output[\"statement\"] = modified_text\n",
    "            final_output[\"questions\"] = generated_questions[\"questions\"]\n",
    "            final_output[\"time_taken\"] = end-start\n",
    "\n",
    "            return final_output\n",
    "    "
   ]
  },
  {
   "cell_type": "code",
   "execution_count": 24,
   "metadata": {
    "execution": {
     "iopub.execute_input": "2024-04-13T08:17:58.071804Z",
     "iopub.status.busy": "2024-04-13T08:17:58.071043Z",
     "iopub.status.idle": "2024-04-13T08:18:20.290649Z",
     "shell.execute_reply": "2024-04-13T08:18:20.289686Z",
     "shell.execute_reply.started": "2024-04-13T08:17:58.071769Z"
    },
    "papermill": {
     "duration": 61.17602,
     "end_time": "2020-08-09T09:37:44.058422",
     "exception": false,
     "start_time": "2020-08-09T09:36:42.882402",
     "status": "completed"
    },
    "tags": []
   },
   "outputs": [
    {
     "name": "stdout",
     "output_type": "stream",
     "text": [
      "s2v model already exists.\n"
     ]
    },
    {
     "name": "stderr",
     "output_type": "stream",
     "text": [
      "Special tokens have been added in the vocabulary, make sure the associated word embeddings are fine-tuned or trained.\n",
      "/opt/conda/lib/python3.10/site-packages/transformers/tokenization_utils_base.py:2688: FutureWarning: The `pad_to_max_length` argument is deprecated and will be removed in a future version, use `padding=True` or `padding='longest'` to pad to the longest sequence in the batch, or use `padding='max_length'` to pad to a max length. In this case, you can give a specific length with `max_length` (e.g. `max_length=45`) or leave max_length to None to pad to the maximal input size of the model (e.g. 512 for Bert).\n",
      "  warnings.warn(\n",
      "/opt/conda/lib/python3.10/site-packages/transformers/models/t5/tokenization_t5.py:309: UserWarning: This sequence already has </s>. In future versions this behavior may lead to duplicated eos tokens being added.\n",
      "  warnings.warn(\n"
     ]
    },
    {
     "name": "stdout",
     "output_type": "stream",
     "text": [
      "Running model for generation\n",
      " Sense2vec_distractors successful for word :  pericardium\n",
      "Context:  Between the outer layer, the parietal pericardium, and the inner layer, the serous pericardium, runs pericardial fluid, which lubricates the heart during contractions and movements of the lungs and diaphragm.The heart's outer wall consists of three layers. Between the outer layer, the parietal pericardium, and the inner layer, the serous pericardium, runs pericardial fluid, which lubricates the heart during contractions and movements of the lungs and diaphragm.The heart's outer wall consists of three layers. A double-walled sac called the pericardium encases the heart, which serves to protect the heart and anchor it inside the chest.\n",
      "Generated Question: \n",
      "What is the double-walled sac that encases the heart?\n",
      "Answer:  pericardium\n",
      " Sense2vec_distractors successful for word :  contractions\n",
      "Context:  Between the outer layer, the parietal pericardium, and the inner layer, the serous pericardium, runs pericardial fluid, which lubricates the heart during contractions and movements of the lungs and diaphragm.The heart's outer wall consists of three layers.\n",
      "Generated Question: \n",
      "Along with movements of the lungs and diaphragm, during what does pericardial fluid lubricate the heart?\n",
      "Answer:  contractions\n",
      "Context:  Between the outer layer, the parietal pericardium, and the inner layer, the serous pericardium, runs pericardial fluid, which lubricates the heart during contractions and movements of the lungs and diaphragm.The heart's outer wall consists of three layers. Between the outer layer, the parietal pericardium, and the inner layer, the serous pericardium, runs pericardial fluid, which lubricates the heart during contractions and movements of the lungs and diaphragm.The heart's outer wall consists of three layers. The inner layer, or endocardium, is the lining that contacts the blood.The tricuspid valve and the mitral valve make up the atrioventricular (AV) valves, which connect the atria and the ventricles.\n",
      "Generated Question: \n",
      "The parietal pericardium is the outermost what?\n",
      "Answer:  layer\n"
     ]
    }
   ],
   "source": [
    "if __name__ == \"__main__\":\n",
    "\n",
    "    mcq = PythonPredictor()\n",
    "\n",
    "    payload={\n",
    "    \"input_text\" : \"A double-walled sac called the pericardium encases the heart, which serves to protect the heart and anchor it inside the chest. Between the outer layer, the parietal pericardium, and the inner layer, the serous pericardium, runs pericardial fluid, which lubricates the heart during contractions and movements of the lungs and diaphragm.The heart's outer wall consists of three layers. The outermost wall layer, or epicardium, is the inner wall of the pericardium. The middle layer, or myocardium, contains the muscle that contracts. The inner layer, or endocardium, is the lining that contacts the blood.The tricuspid valve and the mitral valve make up the atrioventricular (AV) valves, which connect the atria and the ventricles. The pulmonary semi-lunar valve separates the right ventricle from the pulmonary artery, and the aortic valve separates the left ventricle from the aorta. The heartstrings, or chordae tendinae, anchor the valves to heart muscles.\"\n",
    "    }\n",
    "\n",
    "    out= mcq.predict(payload)"
   ]
  },
  {
   "cell_type": "code",
   "execution_count": 25,
   "metadata": {
    "execution": {
     "iopub.execute_input": "2024-04-13T08:19:22.592842Z",
     "iopub.status.busy": "2024-04-13T08:19:22.591913Z",
     "iopub.status.idle": "2024-04-13T08:19:22.599253Z",
     "shell.execute_reply": "2024-04-13T08:19:22.598266Z",
     "shell.execute_reply.started": "2024-04-13T08:19:22.592804Z"
    },
    "papermill": {
     "duration": 0.055893,
     "end_time": "2020-08-09T09:37:44.159123",
     "exception": false,
     "start_time": "2020-08-09T09:37:44.103230",
     "status": "completed"
    },
    "tags": []
   },
   "outputs": [
    {
     "data": {
      "text/plain": [
       "\"A double-walled sac called the pericardium encases the heart, which serves to protect the heart and anchor it inside the chest. Between the outer layer, the parietal pericardium, and the inner layer, the serous pericardium, runs pericardial fluid, which lubricates the heart during contractions and movements of the lungs and diaphragm.The heart's outer wall consists of three layers. The outermost wall layer, or epicardium, is the inner wall of the pericardium. The middle layer, or myocardium, contains the muscle that contracts. The inner layer, or endocardium, is the lining that contacts the blood.The tricuspid valve and the mitral valve make up the atrioventricular (AV) valves, which connect the atria and the ventricles. The pulmonary semi-lunar valve separates the right ventricle from the pulmonary artery, and the aortic valve separates the left ventricle from the aorta. The heartstrings, or chordae tendinae, anchor the valves to heart muscles.\""
      ]
     },
     "execution_count": 25,
     "metadata": {},
     "output_type": "execute_result"
    }
   ],
   "source": [
    "out[\"statement\"]"
   ]
  },
  {
   "cell_type": "code",
   "execution_count": 26,
   "metadata": {
    "execution": {
     "iopub.execute_input": "2024-04-13T08:19:27.450003Z",
     "iopub.status.busy": "2024-04-13T08:19:27.448997Z",
     "iopub.status.idle": "2024-04-13T08:19:27.456404Z",
     "shell.execute_reply": "2024-04-13T08:19:27.455456Z",
     "shell.execute_reply.started": "2024-04-13T08:19:27.449965Z"
    },
    "papermill": {
     "duration": 0.057526,
     "end_time": "2020-08-09T09:37:44.263552",
     "exception": false,
     "start_time": "2020-08-09T09:37:44.206026",
     "status": "completed"
    },
    "tags": []
   },
   "outputs": [
    {
     "data": {
      "text/plain": [
       "{'statement': \"A double-walled sac called the pericardium encases the heart, which serves to protect the heart and anchor it inside the chest. Between the outer layer, the parietal pericardium, and the inner layer, the serous pericardium, runs pericardial fluid, which lubricates the heart during contractions and movements of the lungs and diaphragm.The heart's outer wall consists of three layers. The outermost wall layer, or epicardium, is the inner wall of the pericardium. The middle layer, or myocardium, contains the muscle that contracts. The inner layer, or endocardium, is the lining that contacts the blood.The tricuspid valve and the mitral valve make up the atrioventricular (AV) valves, which connect the atria and the ventricles. The pulmonary semi-lunar valve separates the right ventricle from the pulmonary artery, and the aortic valve separates the left ventricle from the aorta. The heartstrings, or chordae tendinae, anchor the valves to heart muscles.\",\n",
       " 'questions': [{'question_statement': 'What is the double-walled sac that encases the heart?',\n",
       "   'question_type': 'MCQ',\n",
       "   'answer': 'pericardium',\n",
       "   'id': 1,\n",
       "   'options': ['Aorta', 'Abdominal Cavity', 'Fistula'],\n",
       "   'options_algorithm': 'sense2vec',\n",
       "   'extra_options': ['Hematoma',\n",
       "    'Right Lung',\n",
       "    'Blood Vessels',\n",
       "    'Surrounding Tissue',\n",
       "    'Peritoneum',\n",
       "    'Spleen',\n",
       "    'Abscess'],\n",
       "   'context': \"Between the outer layer, the parietal pericardium, and the inner layer, the serous pericardium, runs pericardial fluid, which lubricates the heart during contractions and movements of the lungs and diaphragm.The heart's outer wall consists of three layers. Between the outer layer, the parietal pericardium, and the inner layer, the serous pericardium, runs pericardial fluid, which lubricates the heart during contractions and movements of the lungs and diaphragm.The heart's outer wall consists of three layers. A double-walled sac called the pericardium encases the heart, which serves to protect the heart and anchor it inside the chest.\"},\n",
       "  {'question_statement': 'Along with movements of the lungs and diaphragm, during what does pericardial fluid lubricate the heart?',\n",
       "   'question_type': 'MCQ',\n",
       "   'answer': 'contractions',\n",
       "   'id': 2,\n",
       "   'options': ['Pitocin', 'Active Labor', 'Epidural'],\n",
       "   'options_algorithm': 'sense2vec',\n",
       "   'extra_options': ['Braxton Hicks', 'Cramping', '41 Weeks'],\n",
       "   'context': \"Between the outer layer, the parietal pericardium, and the inner layer, the serous pericardium, runs pericardial fluid, which lubricates the heart during contractions and movements of the lungs and diaphragm.The heart's outer wall consists of three layers.\"}],\n",
       " 'time_taken': 8.118882656097412}"
      ]
     },
     "execution_count": 26,
     "metadata": {},
     "output_type": "execute_result"
    }
   ],
   "source": [
    "out"
   ]
  },
  {
   "cell_type": "code",
   "execution_count": 27,
   "metadata": {
    "execution": {
     "iopub.execute_input": "2024-04-13T08:19:44.809618Z",
     "iopub.status.busy": "2024-04-13T08:19:44.808698Z",
     "iopub.status.idle": "2024-04-13T08:19:44.816003Z",
     "shell.execute_reply": "2024-04-13T08:19:44.815037Z",
     "shell.execute_reply.started": "2024-04-13T08:19:44.809585Z"
    },
    "papermill": {
     "duration": 0.055219,
     "end_time": "2020-08-09T09:37:44.366443",
     "exception": false,
     "start_time": "2020-08-09T09:37:44.311224",
     "status": "completed"
    },
    "tags": []
   },
   "outputs": [
    {
     "data": {
      "text/plain": [
       "{'question_statement': 'What is the double-walled sac that encases the heart?',\n",
       " 'question_type': 'MCQ',\n",
       " 'answer': 'pericardium',\n",
       " 'id': 1,\n",
       " 'options': ['Aorta', 'Abdominal Cavity', 'Fistula'],\n",
       " 'options_algorithm': 'sense2vec',\n",
       " 'extra_options': ['Hematoma',\n",
       "  'Right Lung',\n",
       "  'Blood Vessels',\n",
       "  'Surrounding Tissue',\n",
       "  'Peritoneum',\n",
       "  'Spleen',\n",
       "  'Abscess'],\n",
       " 'context': \"Between the outer layer, the parietal pericardium, and the inner layer, the serous pericardium, runs pericardial fluid, which lubricates the heart during contractions and movements of the lungs and diaphragm.The heart's outer wall consists of three layers. Between the outer layer, the parietal pericardium, and the inner layer, the serous pericardium, runs pericardial fluid, which lubricates the heart during contractions and movements of the lungs and diaphragm.The heart's outer wall consists of three layers. A double-walled sac called the pericardium encases the heart, which serves to protect the heart and anchor it inside the chest.\"}"
      ]
     },
     "execution_count": 27,
     "metadata": {},
     "output_type": "execute_result"
    }
   ],
   "source": [
    "out[\"questions\"][0]"
   ]
  },
  {
   "cell_type": "markdown",
   "metadata": {},
   "source": [
    "# Test On Different Texts"
   ]
  },
  {
   "cell_type": "code",
   "execution_count": 35,
   "metadata": {
    "execution": {
     "iopub.execute_input": "2024-04-13T08:30:50.514696Z",
     "iopub.status.busy": "2024-04-13T08:30:50.514321Z",
     "iopub.status.idle": "2024-04-13T08:31:12.462559Z",
     "shell.execute_reply": "2024-04-13T08:31:12.461548Z",
     "shell.execute_reply.started": "2024-04-13T08:30:50.514671Z"
    }
   },
   "outputs": [
    {
     "name": "stdout",
     "output_type": "stream",
     "text": [
      "s2v model already exists.\n"
     ]
    },
    {
     "name": "stderr",
     "output_type": "stream",
     "text": [
      "Special tokens have been added in the vocabulary, make sure the associated word embeddings are fine-tuned or trained.\n"
     ]
    },
    {
     "name": "stdout",
     "output_type": "stream",
     "text": [
      " Sense2vec_distractors successful for word :  blood vessels\n",
      " Sense2vec_distractors successful for word :  airways\n",
      " Sense2vec_distractors successful for word :  tissues\n",
      " Sense2vec_distractors successful for word :  lungs\n"
     ]
    },
    {
     "data": {
      "text/plain": [
       "{'statement': 'The respiratory system is a network of organs and tissues that help you breathe. It includes your airways, lungs, and blood vessels. The muscles that power your lungs are also part of the respiratory system. These parts work together to move oxygen throughout the body and clean out waste gases like carbon dioxide.',\n",
       " 'questions': [{'question_statement': 'Along with your airways, lungs and airways, what else is included in your body?',\n",
       "   'question_type': 'MCQ',\n",
       "   'answer': 'blood vessels',\n",
       "   'id': 1,\n",
       "   'options': ['Capillaries', 'Blood Flow', 'Surrounding Tissue'],\n",
       "   'options_algorithm': 'sense2vec',\n",
       "   'extra_options': ['Smooth Muscle', 'Vasculature', 'Other Organs'],\n",
       "   'context': 'It includes your airways, lungs, and blood vessels.'},\n",
       "  {'question_statement': 'Along with the lungs and blood vessels, what organ is a part of the body?',\n",
       "   'question_type': 'MCQ',\n",
       "   'answer': 'airways',\n",
       "   'id': 2,\n",
       "   'options': ['Nasal Passages', 'Sinuses', 'Respiratory System'],\n",
       "   'options_algorithm': 'sense2vec',\n",
       "   'extra_options': ['Blood Vessels', 'Lungs', 'Mucous Membranes', 'Trachea'],\n",
       "   'context': 'It includes your airways, lungs, and blood vessels.'},\n",
       "  {'question_statement': 'Along with organs, what part of the respiratory system helps you breathe?',\n",
       "   'question_type': 'MCQ',\n",
       "   'answer': 'tissues',\n",
       "   'id': 3,\n",
       "   'options': ['Kleenex', 'Hand Sanitizer', 'Fecal Matter'],\n",
       "   'options_algorithm': 'sense2vec',\n",
       "   'extra_options': ['Gauze',\n",
       "    'Mucous',\n",
       "    'Germs',\n",
       "    'Saliva',\n",
       "    'Bodily Fluids',\n",
       "    'Disinfectant'],\n",
       "   'context': 'The respiratory system is a network of organs and tissues that help you breathe.'},\n",
       "  {'question_statement': 'Along with the airways and blood vessels, what part of the respiratory system is a part of the respiratory system?',\n",
       "   'question_type': 'MCQ',\n",
       "   'answer': 'lungs',\n",
       "   'id': 4,\n",
       "   'options': ['Respiratory System', 'Breath', 'Esophagus'],\n",
       "   'options_algorithm': 'sense2vec',\n",
       "   'extra_options': ['Nasal Cavity',\n",
       "    'Alveoli',\n",
       "    'Sinuses',\n",
       "    'Inhale',\n",
       "    'Nostrils',\n",
       "    'Coughing',\n",
       "    'Airways'],\n",
       "   'context': 'The muscles that power your lungs are also part of the respiratory system. It includes your airways, lungs, and blood vessels.'}],\n",
       " 'time_taken': 8.187333822250366}"
      ]
     },
     "execution_count": 35,
     "metadata": {},
     "output_type": "execute_result"
    }
   ],
   "source": [
    "# test 1\n",
    "\n",
    "if __name__ == \"__main__\":\n",
    "    mcq = PythonPredictor()\n",
    "\n",
    "    payload = {\n",
    "        \"input_text\": \"The respiratory system is a network of organs and tissues that help you breathe. It includes your airways, lungs, and blood vessels. The muscles that power your lungs are also part of the respiratory system. These parts work together to move oxygen throughout the body and clean out waste gases like carbon dioxide.\"\n",
    "    }\n",
    "\n",
    "    out = mcq.predict(payload)\n",
    "out"
   ]
  },
  {
   "cell_type": "code",
   "execution_count": 37,
   "metadata": {
    "execution": {
     "iopub.execute_input": "2024-04-13T08:32:03.745668Z",
     "iopub.status.busy": "2024-04-13T08:32:03.745230Z",
     "iopub.status.idle": "2024-04-13T08:32:23.872240Z",
     "shell.execute_reply": "2024-04-13T08:32:23.871193Z",
     "shell.execute_reply.started": "2024-04-13T08:32:03.745633Z"
    }
   },
   "outputs": [
    {
     "name": "stdout",
     "output_type": "stream",
     "text": [
      "s2v model already exists.\n"
     ]
    },
    {
     "name": "stderr",
     "output_type": "stream",
     "text": [
      "Special tokens have been added in the vocabulary, make sure the associated word embeddings are fine-tuned or trained.\n"
     ]
    },
    {
     "name": "stdout",
     "output_type": "stream",
     "text": [
      " Sense2vec_distractors successful for word :  oop\n",
      " Sense2vec_distractors successful for word :  programming\n",
      " Sense2vec_distractors successful for word :  attributes\n"
     ]
    },
    {
     "data": {
      "text/plain": [
       "{'statement': \"Object-oriented programming (OOP) is a programming paradigm based on the concept of 'objects', which can contain data and code: data in the form of fields (often known as attributes or properties), and code, in the form of procedures (often known as methods). A feature of objects is that an object's own procedures can access and often modify the data fields of itself (objects have a notion of 'this' or 'self'). In OOP, computer programs are designed by making them out of objects that interact with one another. There is a significant diversity of OOP languages, but the most popular ones are class-based, meaning that objects are instances of classes, which also determine their types.\",\n",
       " 'questions': [{'question_statement': 'What is the acronym for Object-oriented programming?',\n",
       "   'question_type': 'MCQ',\n",
       "   'answer': 'oop',\n",
       "   'id': 1,\n",
       "   'options': ['Functional Programming', 'Haskell', 'C++'],\n",
       "   'options_algorithm': 'sense2vec',\n",
       "   'extra_options': ['Object Orientation',\n",
       "    'Modern C++',\n",
       "    'Lisp',\n",
       "    'Design Patterns'],\n",
       "   'context': \"Object-oriented programming (OOP) is a programming paradigm based on the concept of 'objects', which can contain data and code: data in the form of fields (often known as attributes or properties), and code, in the form of procedures (often known as methods). There is a significant diversity of OOP languages, but the most popular ones are class-based, meaning that objects are instances of classes, which also determine their types. In OOP, computer programs are designed by making them out of objects that interact with one another.\"},\n",
       "  {'question_statement': 'What is OOP?',\n",
       "   'question_type': 'MCQ',\n",
       "   'answer': 'programming',\n",
       "   'id': 2,\n",
       "   'options': ['Coding', 'Web Development', 'Software Engineering'],\n",
       "   'options_algorithm': 'sense2vec',\n",
       "   'extra_options': [],\n",
       "   'context': \"Object-oriented programming (OOP) is a programming paradigm based on the concept of 'objects', which can contain data and code: data in the form of fields (often known as attributes or properties), and code, in the form of procedures (often known as methods). Object-oriented programming (OOP) is a programming paradigm based on the concept of 'objects', which can contain data and code: data in the form of fields (often known as attributes or properties), and code, in the form of procedures (often known as methods).\"},\n",
       "  {'question_statement': 'What are fields called?',\n",
       "   'question_type': 'MCQ',\n",
       "   'answer': 'attributes',\n",
       "   'id': 3,\n",
       "   'options': ['Traits', 'Tackling'],\n",
       "   'options_algorithm': 'sense2vec',\n",
       "   'extra_options': [],\n",
       "   'context': \"Object-oriented programming (OOP) is a programming paradigm based on the concept of 'objects', which can contain data and code: data in the form of fields (often known as attributes or properties), and code, in the form of procedures (often known as methods).\"}],\n",
       " 'time_taken': 6.6867804527282715}"
      ]
     },
     "execution_count": 37,
     "metadata": {},
     "output_type": "execute_result"
    }
   ],
   "source": [
    "# test 1\n",
    "if __name__ == \"__main__\":\n",
    "    mcq = PythonPredictor()\n",
    "\n",
    "    payload = {\n",
    "        \"input_text\": \"Object-oriented programming (OOP) is a programming paradigm based on the concept of 'objects', which can contain data and code: data in the form of fields (often known as attributes or properties), and code, in the form of procedures (often known as methods). A feature of objects is that an object's own procedures can access and often modify the data fields of itself (objects have a notion of 'this' or 'self'). In OOP, computer programs are designed by making them out of objects that interact with one another. There is a significant diversity of OOP languages, but the most popular ones are class-based, meaning that objects are instances of classes, which also determine their types.\"\n",
    "    }\n",
    "\n",
    "    out = mcq.predict(payload)\n",
    "out"
   ]
  },
  {
   "cell_type": "code",
   "execution_count": null,
   "metadata": {},
   "outputs": [],
   "source": []
  }
 ],
 "metadata": {
  "kaggle": {
   "accelerator": "gpu",
   "dataSources": [
    {
     "datasetId": 822562,
     "sourceId": 1406927,
     "sourceType": "datasetVersion"
    }
   ],
   "dockerImageVersionId": 30683,
   "isGpuEnabled": true,
   "isInternetEnabled": true,
   "language": "python",
   "sourceType": "notebook"
  },
  "kernelspec": {
   "display_name": "Python 3 (ipykernel)",
   "language": "python",
   "name": "python3"
  },
  "language_info": {
   "codemirror_mode": {
    "name": "ipython",
    "version": 3
   },
   "file_extension": ".py",
   "mimetype": "text/x-python",
   "name": "python",
   "nbconvert_exporter": "python",
   "pygments_lexer": "ipython3",
   "version": "3.9.12"
  },
  "papermill": {
   "duration": 127.842043,
   "end_time": "2020-08-09T09:37:45.279043",
   "environment_variables": {},
   "exception": null,
   "input_path": "__notebook__.ipynb",
   "output_path": "__notebook__.ipynb",
   "parameters": {},
   "start_time": "2020-08-09T09:35:37.437000",
   "version": "2.1.0"
  },
  "widgets": {
   "application/vnd.jupyter.widget-state+json": {
    "state": {
     "1d0a8d4873af40c7af2c0e3c4e8e4485": {
      "model_module": "@jupyter-widgets/base",
      "model_module_version": "1.2.0",
      "model_name": "LayoutModel",
      "state": {
       "_model_module": "@jupyter-widgets/base",
       "_model_module_version": "1.2.0",
       "_model_name": "LayoutModel",
       "_view_count": null,
       "_view_module": "@jupyter-widgets/base",
       "_view_module_version": "1.2.0",
       "_view_name": "LayoutView",
       "align_content": null,
       "align_items": null,
       "align_self": null,
       "border": null,
       "bottom": null,
       "display": null,
       "flex": null,
       "flex_flow": null,
       "grid_area": null,
       "grid_auto_columns": null,
       "grid_auto_flow": null,
       "grid_auto_rows": null,
       "grid_column": null,
       "grid_gap": null,
       "grid_row": null,
       "grid_template_areas": null,
       "grid_template_columns": null,
       "grid_template_rows": null,
       "height": null,
       "justify_content": null,
       "justify_items": null,
       "left": null,
       "margin": null,
       "max_height": null,
       "max_width": null,
       "min_height": null,
       "min_width": null,
       "object_fit": null,
       "object_position": null,
       "order": null,
       "overflow": null,
       "overflow_x": null,
       "overflow_y": null,
       "padding": null,
       "right": null,
       "top": null,
       "visibility": null,
       "width": null
      }
     },
     "2003b3f444b545bc892358028ba2a05b": {
      "model_module": "@jupyter-widgets/base",
      "model_module_version": "1.2.0",
      "model_name": "LayoutModel",
      "state": {
       "_model_module": "@jupyter-widgets/base",
       "_model_module_version": "1.2.0",
       "_model_name": "LayoutModel",
       "_view_count": null,
       "_view_module": "@jupyter-widgets/base",
       "_view_module_version": "1.2.0",
       "_view_name": "LayoutView",
       "align_content": null,
       "align_items": null,
       "align_self": null,
       "border": null,
       "bottom": null,
       "display": null,
       "flex": null,
       "flex_flow": null,
       "grid_area": null,
       "grid_auto_columns": null,
       "grid_auto_flow": null,
       "grid_auto_rows": null,
       "grid_column": null,
       "grid_gap": null,
       "grid_row": null,
       "grid_template_areas": null,
       "grid_template_columns": null,
       "grid_template_rows": null,
       "height": null,
       "justify_content": null,
       "justify_items": null,
       "left": null,
       "margin": null,
       "max_height": null,
       "max_width": null,
       "min_height": null,
       "min_width": null,
       "object_fit": null,
       "object_position": null,
       "order": null,
       "overflow": null,
       "overflow_x": null,
       "overflow_y": null,
       "padding": null,
       "right": null,
       "top": null,
       "visibility": null,
       "width": null
      }
     },
     "208bdf910db24b7b83ff54f67a67619e": {
      "model_module": "@jupyter-widgets/base",
      "model_module_version": "1.2.0",
      "model_name": "LayoutModel",
      "state": {
       "_model_module": "@jupyter-widgets/base",
       "_model_module_version": "1.2.0",
       "_model_name": "LayoutModel",
       "_view_count": null,
       "_view_module": "@jupyter-widgets/base",
       "_view_module_version": "1.2.0",
       "_view_name": "LayoutView",
       "align_content": null,
       "align_items": null,
       "align_self": null,
       "border": null,
       "bottom": null,
       "display": null,
       "flex": null,
       "flex_flow": null,
       "grid_area": null,
       "grid_auto_columns": null,
       "grid_auto_flow": null,
       "grid_auto_rows": null,
       "grid_column": null,
       "grid_gap": null,
       "grid_row": null,
       "grid_template_areas": null,
       "grid_template_columns": null,
       "grid_template_rows": null,
       "height": null,
       "justify_content": null,
       "justify_items": null,
       "left": null,
       "margin": null,
       "max_height": null,
       "max_width": null,
       "min_height": null,
       "min_width": null,
       "object_fit": null,
       "object_position": null,
       "order": null,
       "overflow": null,
       "overflow_x": null,
       "overflow_y": null,
       "padding": null,
       "right": null,
       "top": null,
       "visibility": null,
       "width": null
      }
     },
     "33b8bcbb7cc7482aa2dfcd7d508ff4ef": {
      "model_module": "@jupyter-widgets/controls",
      "model_module_version": "1.5.0",
      "model_name": "FloatProgressModel",
      "state": {
       "_dom_classes": [],
       "_model_module": "@jupyter-widgets/controls",
       "_model_module_version": "1.5.0",
       "_model_name": "FloatProgressModel",
       "_view_count": null,
       "_view_module": "@jupyter-widgets/controls",
       "_view_module_version": "1.5.0",
       "_view_name": "ProgressView",
       "bar_style": "success",
       "description": "Downloading: 100%",
       "description_tooltip": null,
       "layout": "IPY_MODEL_2003b3f444b545bc892358028ba2a05b",
       "max": 791656,
       "min": 0,
       "orientation": "horizontal",
       "style": "IPY_MODEL_7f41b2b180f043fc87cf5003d028ec69",
       "value": 791656
      }
     },
     "3a4244dc745849f49c2b5cc2d34b19fc": {
      "model_module": "@jupyter-widgets/controls",
      "model_module_version": "1.5.0",
      "model_name": "ProgressStyleModel",
      "state": {
       "_model_module": "@jupyter-widgets/controls",
       "_model_module_version": "1.5.0",
       "_model_name": "ProgressStyleModel",
       "_view_count": null,
       "_view_module": "@jupyter-widgets/base",
       "_view_module_version": "1.2.0",
       "_view_name": "StyleView",
       "bar_color": null,
       "description_width": "initial"
      }
     },
     "4b5adc0939794c1eb2f55f79ef8967f9": {
      "model_module": "@jupyter-widgets/controls",
      "model_module_version": "1.5.0",
      "model_name": "DescriptionStyleModel",
      "state": {
       "_model_module": "@jupyter-widgets/controls",
       "_model_module_version": "1.5.0",
       "_model_name": "DescriptionStyleModel",
       "_view_count": null,
       "_view_module": "@jupyter-widgets/base",
       "_view_module_version": "1.2.0",
       "_view_name": "StyleView",
       "description_width": ""
      }
     },
     "5033f5197ab84c45ae7cb533df09602a": {
      "model_module": "@jupyter-widgets/controls",
      "model_module_version": "1.5.0",
      "model_name": "FloatProgressModel",
      "state": {
       "_dom_classes": [],
       "_model_module": "@jupyter-widgets/controls",
       "_model_module_version": "1.5.0",
       "_model_name": "FloatProgressModel",
       "_view_count": null,
       "_view_module": "@jupyter-widgets/controls",
       "_view_module_version": "1.5.0",
       "_view_name": "ProgressView",
       "bar_style": "success",
       "description": "Downloading: 100%",
       "description_tooltip": null,
       "layout": "IPY_MODEL_5bfd0b9cfbbc4377b9069970a15879c8",
       "max": 1208,
       "min": 0,
       "orientation": "horizontal",
       "style": "IPY_MODEL_5980c345a6f645f786ccc3ce71befa44",
       "value": 1208
      }
     },
     "563004f6a2084846936ba538f0793881": {
      "model_module": "@jupyter-widgets/controls",
      "model_module_version": "1.5.0",
      "model_name": "HTMLModel",
      "state": {
       "_dom_classes": [],
       "_model_module": "@jupyter-widgets/controls",
       "_model_module_version": "1.5.0",
       "_model_name": "HTMLModel",
       "_view_count": null,
       "_view_module": "@jupyter-widgets/controls",
       "_view_module_version": "1.5.0",
       "_view_name": "HTMLView",
       "description": "",
       "description_tooltip": null,
       "layout": "IPY_MODEL_a4fb3b0781014f83b9cd264ed67acc72",
       "placeholder": "​",
       "style": "IPY_MODEL_9f90de3eff4a4935aa0ce69579037aeb",
       "value": " 1.21k/1.21k [00:00&lt;00:00, 3.56kB/s]"
      }
     },
     "570e15326d2b441aa7475cc441a56069": {
      "model_module": "@jupyter-widgets/controls",
      "model_module_version": "1.5.0",
      "model_name": "DescriptionStyleModel",
      "state": {
       "_model_module": "@jupyter-widgets/controls",
       "_model_module_version": "1.5.0",
       "_model_name": "DescriptionStyleModel",
       "_view_count": null,
       "_view_module": "@jupyter-widgets/base",
       "_view_module_version": "1.2.0",
       "_view_name": "StyleView",
       "description_width": ""
      }
     },
     "5980c345a6f645f786ccc3ce71befa44": {
      "model_module": "@jupyter-widgets/controls",
      "model_module_version": "1.5.0",
      "model_name": "ProgressStyleModel",
      "state": {
       "_model_module": "@jupyter-widgets/controls",
       "_model_module_version": "1.5.0",
       "_model_name": "ProgressStyleModel",
       "_view_count": null,
       "_view_module": "@jupyter-widgets/base",
       "_view_module_version": "1.2.0",
       "_view_name": "StyleView",
       "bar_color": null,
       "description_width": "initial"
      }
     },
     "5bfd0b9cfbbc4377b9069970a15879c8": {
      "model_module": "@jupyter-widgets/base",
      "model_module_version": "1.2.0",
      "model_name": "LayoutModel",
      "state": {
       "_model_module": "@jupyter-widgets/base",
       "_model_module_version": "1.2.0",
       "_model_name": "LayoutModel",
       "_view_count": null,
       "_view_module": "@jupyter-widgets/base",
       "_view_module_version": "1.2.0",
       "_view_name": "LayoutView",
       "align_content": null,
       "align_items": null,
       "align_self": null,
       "border": null,
       "bottom": null,
       "display": null,
       "flex": null,
       "flex_flow": null,
       "grid_area": null,
       "grid_auto_columns": null,
       "grid_auto_flow": null,
       "grid_auto_rows": null,
       "grid_column": null,
       "grid_gap": null,
       "grid_row": null,
       "grid_template_areas": null,
       "grid_template_columns": null,
       "grid_template_rows": null,
       "height": null,
       "justify_content": null,
       "justify_items": null,
       "left": null,
       "margin": null,
       "max_height": null,
       "max_width": null,
       "min_height": null,
       "min_width": null,
       "object_fit": null,
       "object_position": null,
       "order": null,
       "overflow": null,
       "overflow_x": null,
       "overflow_y": null,
       "padding": null,
       "right": null,
       "top": null,
       "visibility": null,
       "width": null
      }
     },
     "5f687b8e143f442bb5e294b127577728": {
      "model_module": "@jupyter-widgets/controls",
      "model_module_version": "1.5.0",
      "model_name": "HTMLModel",
      "state": {
       "_dom_classes": [],
       "_model_module": "@jupyter-widgets/controls",
       "_model_module_version": "1.5.0",
       "_model_name": "HTMLModel",
       "_view_count": null,
       "_view_module": "@jupyter-widgets/controls",
       "_view_module_version": "1.5.0",
       "_view_name": "HTMLView",
       "description": "",
       "description_tooltip": null,
       "layout": "IPY_MODEL_208bdf910db24b7b83ff54f67a67619e",
       "placeholder": "​",
       "style": "IPY_MODEL_570e15326d2b441aa7475cc441a56069",
       "value": " 892M/892M [00:26&lt;00:00, 33.8MB/s]"
      }
     },
     "718c752903b244aea6975a3c10e3b9c8": {
      "model_module": "@jupyter-widgets/controls",
      "model_module_version": "1.5.0",
      "model_name": "FloatProgressModel",
      "state": {
       "_dom_classes": [],
       "_model_module": "@jupyter-widgets/controls",
       "_model_module_version": "1.5.0",
       "_model_name": "FloatProgressModel",
       "_view_count": null,
       "_view_module": "@jupyter-widgets/controls",
       "_view_module_version": "1.5.0",
       "_view_name": "ProgressView",
       "bar_style": "success",
       "description": "Downloading: 100%",
       "description_tooltip": null,
       "layout": "IPY_MODEL_ee973c92bcec48eba044574cb7aa2b31",
       "max": 891695056,
       "min": 0,
       "orientation": "horizontal",
       "style": "IPY_MODEL_3a4244dc745849f49c2b5cc2d34b19fc",
       "value": 891695056
      }
     },
     "78af043bf21d461fa5eac227571b724a": {
      "model_module": "@jupyter-widgets/controls",
      "model_module_version": "1.5.0",
      "model_name": "HBoxModel",
      "state": {
       "_dom_classes": [],
       "_model_module": "@jupyter-widgets/controls",
       "_model_module_version": "1.5.0",
       "_model_name": "HBoxModel",
       "_view_count": null,
       "_view_module": "@jupyter-widgets/controls",
       "_view_module_version": "1.5.0",
       "_view_name": "HBoxView",
       "box_style": "",
       "children": [
        "IPY_MODEL_718c752903b244aea6975a3c10e3b9c8",
        "IPY_MODEL_5f687b8e143f442bb5e294b127577728"
       ],
       "layout": "IPY_MODEL_822b2141160e4ed79c2247da56b7c09c"
      }
     },
     "7f41b2b180f043fc87cf5003d028ec69": {
      "model_module": "@jupyter-widgets/controls",
      "model_module_version": "1.5.0",
      "model_name": "ProgressStyleModel",
      "state": {
       "_model_module": "@jupyter-widgets/controls",
       "_model_module_version": "1.5.0",
       "_model_name": "ProgressStyleModel",
       "_view_count": null,
       "_view_module": "@jupyter-widgets/base",
       "_view_module_version": "1.2.0",
       "_view_name": "StyleView",
       "bar_color": null,
       "description_width": "initial"
      }
     },
     "822b2141160e4ed79c2247da56b7c09c": {
      "model_module": "@jupyter-widgets/base",
      "model_module_version": "1.2.0",
      "model_name": "LayoutModel",
      "state": {
       "_model_module": "@jupyter-widgets/base",
       "_model_module_version": "1.2.0",
       "_model_name": "LayoutModel",
       "_view_count": null,
       "_view_module": "@jupyter-widgets/base",
       "_view_module_version": "1.2.0",
       "_view_name": "LayoutView",
       "align_content": null,
       "align_items": null,
       "align_self": null,
       "border": null,
       "bottom": null,
       "display": null,
       "flex": null,
       "flex_flow": null,
       "grid_area": null,
       "grid_auto_columns": null,
       "grid_auto_flow": null,
       "grid_auto_rows": null,
       "grid_column": null,
       "grid_gap": null,
       "grid_row": null,
       "grid_template_areas": null,
       "grid_template_columns": null,
       "grid_template_rows": null,
       "height": null,
       "justify_content": null,
       "justify_items": null,
       "left": null,
       "margin": null,
       "max_height": null,
       "max_width": null,
       "min_height": null,
       "min_width": null,
       "object_fit": null,
       "object_position": null,
       "order": null,
       "overflow": null,
       "overflow_x": null,
       "overflow_y": null,
       "padding": null,
       "right": null,
       "top": null,
       "visibility": null,
       "width": null
      }
     },
     "90e636238c2649a08ea7cca50c4a0476": {
      "model_module": "@jupyter-widgets/controls",
      "model_module_version": "1.5.0",
      "model_name": "HBoxModel",
      "state": {
       "_dom_classes": [],
       "_model_module": "@jupyter-widgets/controls",
       "_model_module_version": "1.5.0",
       "_model_name": "HBoxModel",
       "_view_count": null,
       "_view_module": "@jupyter-widgets/controls",
       "_view_module_version": "1.5.0",
       "_view_name": "HBoxView",
       "box_style": "",
       "children": [
        "IPY_MODEL_5033f5197ab84c45ae7cb533df09602a",
        "IPY_MODEL_563004f6a2084846936ba538f0793881"
       ],
       "layout": "IPY_MODEL_f1e1dbd421924266be4032b4050d68dc"
      }
     },
     "9f90de3eff4a4935aa0ce69579037aeb": {
      "model_module": "@jupyter-widgets/controls",
      "model_module_version": "1.5.0",
      "model_name": "DescriptionStyleModel",
      "state": {
       "_model_module": "@jupyter-widgets/controls",
       "_model_module_version": "1.5.0",
       "_model_name": "DescriptionStyleModel",
       "_view_count": null,
       "_view_module": "@jupyter-widgets/base",
       "_view_module_version": "1.2.0",
       "_view_name": "StyleView",
       "description_width": ""
      }
     },
     "a4fb3b0781014f83b9cd264ed67acc72": {
      "model_module": "@jupyter-widgets/base",
      "model_module_version": "1.2.0",
      "model_name": "LayoutModel",
      "state": {
       "_model_module": "@jupyter-widgets/base",
       "_model_module_version": "1.2.0",
       "_model_name": "LayoutModel",
       "_view_count": null,
       "_view_module": "@jupyter-widgets/base",
       "_view_module_version": "1.2.0",
       "_view_name": "LayoutView",
       "align_content": null,
       "align_items": null,
       "align_self": null,
       "border": null,
       "bottom": null,
       "display": null,
       "flex": null,
       "flex_flow": null,
       "grid_area": null,
       "grid_auto_columns": null,
       "grid_auto_flow": null,
       "grid_auto_rows": null,
       "grid_column": null,
       "grid_gap": null,
       "grid_row": null,
       "grid_template_areas": null,
       "grid_template_columns": null,
       "grid_template_rows": null,
       "height": null,
       "justify_content": null,
       "justify_items": null,
       "left": null,
       "margin": null,
       "max_height": null,
       "max_width": null,
       "min_height": null,
       "min_width": null,
       "object_fit": null,
       "object_position": null,
       "order": null,
       "overflow": null,
       "overflow_x": null,
       "overflow_y": null,
       "padding": null,
       "right": null,
       "top": null,
       "visibility": null,
       "width": null
      }
     },
     "a716e246f40c4a22920c70f371d58313": {
      "model_module": "@jupyter-widgets/controls",
      "model_module_version": "1.5.0",
      "model_name": "HBoxModel",
      "state": {
       "_dom_classes": [],
       "_model_module": "@jupyter-widgets/controls",
       "_model_module_version": "1.5.0",
       "_model_name": "HBoxModel",
       "_view_count": null,
       "_view_module": "@jupyter-widgets/controls",
       "_view_module_version": "1.5.0",
       "_view_name": "HBoxView",
       "box_style": "",
       "children": [
        "IPY_MODEL_33b8bcbb7cc7482aa2dfcd7d508ff4ef",
        "IPY_MODEL_e16f95deb7b348929ed4c5e3ce818f43"
       ],
       "layout": "IPY_MODEL_1d0a8d4873af40c7af2c0e3c4e8e4485"
      }
     },
     "e16f95deb7b348929ed4c5e3ce818f43": {
      "model_module": "@jupyter-widgets/controls",
      "model_module_version": "1.5.0",
      "model_name": "HTMLModel",
      "state": {
       "_dom_classes": [],
       "_model_module": "@jupyter-widgets/controls",
       "_model_module_version": "1.5.0",
       "_model_name": "HTMLModel",
       "_view_count": null,
       "_view_module": "@jupyter-widgets/controls",
       "_view_module_version": "1.5.0",
       "_view_name": "HTMLView",
       "description": "",
       "description_tooltip": null,
       "layout": "IPY_MODEL_fa7d5f59037f4b23964932333aeb64e9",
       "placeholder": "​",
       "style": "IPY_MODEL_4b5adc0939794c1eb2f55f79ef8967f9",
       "value": " 792k/792k [00:00&lt;00:00, 5.06MB/s]"
      }
     },
     "ee973c92bcec48eba044574cb7aa2b31": {
      "model_module": "@jupyter-widgets/base",
      "model_module_version": "1.2.0",
      "model_name": "LayoutModel",
      "state": {
       "_model_module": "@jupyter-widgets/base",
       "_model_module_version": "1.2.0",
       "_model_name": "LayoutModel",
       "_view_count": null,
       "_view_module": "@jupyter-widgets/base",
       "_view_module_version": "1.2.0",
       "_view_name": "LayoutView",
       "align_content": null,
       "align_items": null,
       "align_self": null,
       "border": null,
       "bottom": null,
       "display": null,
       "flex": null,
       "flex_flow": null,
       "grid_area": null,
       "grid_auto_columns": null,
       "grid_auto_flow": null,
       "grid_auto_rows": null,
       "grid_column": null,
       "grid_gap": null,
       "grid_row": null,
       "grid_template_areas": null,
       "grid_template_columns": null,
       "grid_template_rows": null,
       "height": null,
       "justify_content": null,
       "justify_items": null,
       "left": null,
       "margin": null,
       "max_height": null,
       "max_width": null,
       "min_height": null,
       "min_width": null,
       "object_fit": null,
       "object_position": null,
       "order": null,
       "overflow": null,
       "overflow_x": null,
       "overflow_y": null,
       "padding": null,
       "right": null,
       "top": null,
       "visibility": null,
       "width": null
      }
     },
     "f1e1dbd421924266be4032b4050d68dc": {
      "model_module": "@jupyter-widgets/base",
      "model_module_version": "1.2.0",
      "model_name": "LayoutModel",
      "state": {
       "_model_module": "@jupyter-widgets/base",
       "_model_module_version": "1.2.0",
       "_model_name": "LayoutModel",
       "_view_count": null,
       "_view_module": "@jupyter-widgets/base",
       "_view_module_version": "1.2.0",
       "_view_name": "LayoutView",
       "align_content": null,
       "align_items": null,
       "align_self": null,
       "border": null,
       "bottom": null,
       "display": null,
       "flex": null,
       "flex_flow": null,
       "grid_area": null,
       "grid_auto_columns": null,
       "grid_auto_flow": null,
       "grid_auto_rows": null,
       "grid_column": null,
       "grid_gap": null,
       "grid_row": null,
       "grid_template_areas": null,
       "grid_template_columns": null,
       "grid_template_rows": null,
       "height": null,
       "justify_content": null,
       "justify_items": null,
       "left": null,
       "margin": null,
       "max_height": null,
       "max_width": null,
       "min_height": null,
       "min_width": null,
       "object_fit": null,
       "object_position": null,
       "order": null,
       "overflow": null,
       "overflow_x": null,
       "overflow_y": null,
       "padding": null,
       "right": null,
       "top": null,
       "visibility": null,
       "width": null
      }
     },
     "fa7d5f59037f4b23964932333aeb64e9": {
      "model_module": "@jupyter-widgets/base",
      "model_module_version": "1.2.0",
      "model_name": "LayoutModel",
      "state": {
       "_model_module": "@jupyter-widgets/base",
       "_model_module_version": "1.2.0",
       "_model_name": "LayoutModel",
       "_view_count": null,
       "_view_module": "@jupyter-widgets/base",
       "_view_module_version": "1.2.0",
       "_view_name": "LayoutView",
       "align_content": null,
       "align_items": null,
       "align_self": null,
       "border": null,
       "bottom": null,
       "display": null,
       "flex": null,
       "flex_flow": null,
       "grid_area": null,
       "grid_auto_columns": null,
       "grid_auto_flow": null,
       "grid_auto_rows": null,
       "grid_column": null,
       "grid_gap": null,
       "grid_row": null,
       "grid_template_areas": null,
       "grid_template_columns": null,
       "grid_template_rows": null,
       "height": null,
       "justify_content": null,
       "justify_items": null,
       "left": null,
       "margin": null,
       "max_height": null,
       "max_width": null,
       "min_height": null,
       "min_width": null,
       "object_fit": null,
       "object_position": null,
       "order": null,
       "overflow": null,
       "overflow_x": null,
       "overflow_y": null,
       "padding": null,
       "right": null,
       "top": null,
       "visibility": null,
       "width": null
      }
     }
    },
    "version_major": 2,
    "version_minor": 0
   }
  }
 },
 "nbformat": 4,
 "nbformat_minor": 4
}
